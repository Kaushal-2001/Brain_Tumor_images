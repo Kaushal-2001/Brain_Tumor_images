{
  "nbformat": 4,
  "nbformat_minor": 0,
  "metadata": {
    "colab": {
      "provenance": [],
      "authorship_tag": "ABX9TyPEmlRaDCBTZecPviBtQUQ9",
      "include_colab_link": true
    },
    "kernelspec": {
      "name": "python3",
      "display_name": "Python 3"
    },
    "language_info": {
      "name": "python"
    }
  },
  "cells": [
    {
      "cell_type": "markdown",
      "metadata": {
        "id": "view-in-github",
        "colab_type": "text"
      },
      "source": [
        "<a href=\"https://colab.research.google.com/github/Kaushal2001-coder/Brain_Tumor_images/blob/main/Btmodel.ipynb\" target=\"_parent\"><img src=\"https://colab.research.google.com/assets/colab-badge.svg\" alt=\"Open In Colab\"/></a>"
      ]
    },
    {
      "cell_type": "code",
      "execution_count": null,
      "metadata": {
        "colab": {
          "base_uri": "https://localhost:8080/"
        },
        "id": "TktzdfBv2ds_",
        "outputId": "23d263c7-f70e-40e1-a7f6-6426f4538c40"
      },
      "outputs": [
        {
          "output_type": "stream",
          "name": "stdout",
          "text": [
            "Looking in indexes: https://pypi.org/simple, https://us-python.pkg.dev/colab-wheels/public/simple/\n",
            "Collecting umap-learn[plot]\n",
            "  Downloading umap-learn-0.5.3.tar.gz (88 kB)\n",
            "\u001b[2K     \u001b[90m━━━━━━━━━━━━━━━━━━━━━━━━━━━━━━━━━━━━━━━━\u001b[0m \u001b[32m88.2/88.2 KB\u001b[0m \u001b[31m3.4 MB/s\u001b[0m eta \u001b[36m0:00:00\u001b[0m\n",
            "\u001b[?25h  Preparing metadata (setup.py) ... \u001b[?25l\u001b[?25hdone\n",
            "Requirement already satisfied: numpy>=1.17 in /usr/local/lib/python3.8/dist-packages (from umap-learn[plot]) (1.22.4)\n",
            "Requirement already satisfied: scikit-learn>=0.22 in /usr/local/lib/python3.8/dist-packages (from umap-learn[plot]) (1.0.2)\n",
            "Requirement already satisfied: scipy>=1.0 in /usr/local/lib/python3.8/dist-packages (from umap-learn[plot]) (1.7.3)\n",
            "Requirement already satisfied: numba>=0.49 in /usr/local/lib/python3.8/dist-packages (from umap-learn[plot]) (0.56.4)\n",
            "Collecting pynndescent>=0.5\n",
            "  Downloading pynndescent-0.5.8.tar.gz (1.1 MB)\n",
            "\u001b[2K     \u001b[90m━━━━━━━━━━━━━━━━━━━━━━━━━━━━━━━━━━━━━━━━\u001b[0m \u001b[32m1.1/1.1 MB\u001b[0m \u001b[31m20.1 MB/s\u001b[0m eta \u001b[36m0:00:00\u001b[0m\n",
            "\u001b[?25h  Preparing metadata (setup.py) ... \u001b[?25l\u001b[?25hdone\n",
            "Requirement already satisfied: tqdm in /usr/local/lib/python3.8/dist-packages (from umap-learn[plot]) (4.64.1)\n",
            "Requirement already satisfied: pandas in /usr/local/lib/python3.8/dist-packages (from umap-learn[plot]) (1.3.5)\n",
            "Requirement already satisfied: matplotlib in /usr/local/lib/python3.8/dist-packages (from umap-learn[plot]) (3.2.2)\n",
            "Collecting datashader\n",
            "  Downloading datashader-0.14.4-py2.py3-none-any.whl (18.2 MB)\n",
            "\u001b[2K     \u001b[90m━━━━━━━━━━━━━━━━━━━━━━━━━━━━━━━━━━━━━━━━\u001b[0m \u001b[32m18.2/18.2 MB\u001b[0m \u001b[31m66.0 MB/s\u001b[0m eta \u001b[36m0:00:00\u001b[0m\n",
            "\u001b[?25hRequirement already satisfied: bokeh in /usr/local/lib/python3.8/dist-packages (from umap-learn[plot]) (2.3.3)\n",
            "Requirement already satisfied: holoviews in /usr/local/lib/python3.8/dist-packages (from umap-learn[plot]) (1.14.9)\n",
            "Requirement already satisfied: colorcet in /usr/local/lib/python3.8/dist-packages (from umap-learn[plot]) (3.0.1)\n",
            "Requirement already satisfied: seaborn in /usr/local/lib/python3.8/dist-packages (from umap-learn[plot]) (0.11.2)\n",
            "Requirement already satisfied: scikit-image in /usr/local/lib/python3.8/dist-packages (from umap-learn[plot]) (0.18.3)\n",
            "Requirement already satisfied: importlib-metadata in /usr/local/lib/python3.8/dist-packages (from numba>=0.49->umap-learn[plot]) (6.0.0)\n",
            "Requirement already satisfied: setuptools in /usr/local/lib/python3.8/dist-packages (from numba>=0.49->umap-learn[plot]) (57.4.0)\n",
            "Requirement already satisfied: llvmlite<0.40,>=0.39.0dev0 in /usr/local/lib/python3.8/dist-packages (from numba>=0.49->umap-learn[plot]) (0.39.1)\n",
            "Requirement already satisfied: joblib>=0.11 in /usr/local/lib/python3.8/dist-packages (from pynndescent>=0.5->umap-learn[plot]) (1.2.0)\n",
            "Requirement already satisfied: threadpoolctl>=2.0.0 in /usr/local/lib/python3.8/dist-packages (from scikit-learn>=0.22->umap-learn[plot]) (3.1.0)\n",
            "Requirement already satisfied: Jinja2>=2.9 in /usr/local/lib/python3.8/dist-packages (from bokeh->umap-learn[plot]) (2.11.3)\n",
            "Requirement already satisfied: PyYAML>=3.10 in /usr/local/lib/python3.8/dist-packages (from bokeh->umap-learn[plot]) (6.0)\n",
            "Requirement already satisfied: python-dateutil>=2.1 in /usr/local/lib/python3.8/dist-packages (from bokeh->umap-learn[plot]) (2.8.2)\n",
            "Requirement already satisfied: typing-extensions>=3.7.4 in /usr/local/lib/python3.8/dist-packages (from bokeh->umap-learn[plot]) (4.5.0)\n",
            "Requirement already satisfied: pillow>=7.1.0 in /usr/local/lib/python3.8/dist-packages (from bokeh->umap-learn[plot]) (7.1.2)\n",
            "Requirement already satisfied: packaging>=16.8 in /usr/local/lib/python3.8/dist-packages (from bokeh->umap-learn[plot]) (23.0)\n",
            "Requirement already satisfied: tornado>=5.1 in /usr/local/lib/python3.8/dist-packages (from bokeh->umap-learn[plot]) (6.2)\n",
            "Requirement already satisfied: pyct>=0.4.4 in /usr/local/lib/python3.8/dist-packages (from colorcet->umap-learn[plot]) (0.5.0)\n",
            "Requirement already satisfied: toolz in /usr/local/lib/python3.8/dist-packages (from datashader->umap-learn[plot]) (0.12.0)\n",
            "Requirement already satisfied: param in /usr/local/lib/python3.8/dist-packages (from datashader->umap-learn[plot]) (1.12.3)\n",
            "Requirement already satisfied: dask in /usr/local/lib/python3.8/dist-packages (from datashader->umap-learn[plot]) (2022.2.1)\n",
            "Collecting datashape\n",
            "  Downloading datashape-0.5.2.tar.gz (76 kB)\n",
            "\u001b[2K     \u001b[90m━━━━━━━━━━━━━━━━━━━━━━━━━━━━━━━━━━━━━━━━\u001b[0m \u001b[32m76.5/76.5 KB\u001b[0m \u001b[31m10.4 MB/s\u001b[0m eta \u001b[36m0:00:00\u001b[0m\n",
            "\u001b[?25h  Preparing metadata (setup.py) ... \u001b[?25l\u001b[?25hdone\n",
            "Requirement already satisfied: xarray in /usr/local/lib/python3.8/dist-packages (from datashader->umap-learn[plot]) (2022.12.0)\n",
            "Requirement already satisfied: requests in /usr/local/lib/python3.8/dist-packages (from datashader->umap-learn[plot]) (2.25.1)\n",
            "Requirement already satisfied: pyviz-comms>=0.7.4 in /usr/local/lib/python3.8/dist-packages (from holoviews->umap-learn[plot]) (2.2.1)\n",
            "Requirement already satisfied: panel>=0.8.0 in /usr/local/lib/python3.8/dist-packages (from holoviews->umap-learn[plot]) (0.12.1)\n",
            "Requirement already satisfied: pytz>=2017.3 in /usr/local/lib/python3.8/dist-packages (from pandas->umap-learn[plot]) (2022.7.1)\n",
            "Requirement already satisfied: cycler>=0.10 in /usr/local/lib/python3.8/dist-packages (from matplotlib->umap-learn[plot]) (0.11.0)\n",
            "Requirement already satisfied: pyparsing!=2.0.4,!=2.1.2,!=2.1.6,>=2.0.1 in /usr/local/lib/python3.8/dist-packages (from matplotlib->umap-learn[plot]) (3.0.9)\n",
            "Requirement already satisfied: kiwisolver>=1.0.1 in /usr/local/lib/python3.8/dist-packages (from matplotlib->umap-learn[plot]) (1.4.4)\n",
            "Requirement already satisfied: PyWavelets>=1.1.1 in /usr/local/lib/python3.8/dist-packages (from scikit-image->umap-learn[plot]) (1.4.1)\n",
            "Requirement already satisfied: networkx>=2.0 in /usr/local/lib/python3.8/dist-packages (from scikit-image->umap-learn[plot]) (3.0)\n",
            "Requirement already satisfied: tifffile>=2019.7.26 in /usr/local/lib/python3.8/dist-packages (from scikit-image->umap-learn[plot]) (2023.2.3)\n",
            "Requirement already satisfied: imageio>=2.3.0 in /usr/local/lib/python3.8/dist-packages (from scikit-image->umap-learn[plot]) (2.9.0)\n",
            "Requirement already satisfied: MarkupSafe>=0.23 in /usr/local/lib/python3.8/dist-packages (from Jinja2>=2.9->bokeh->umap-learn[plot]) (2.0.1)\n",
            "Requirement already satisfied: markdown in /usr/local/lib/python3.8/dist-packages (from panel>=0.8.0->holoviews->umap-learn[plot]) (3.4.1)\n",
            "Requirement already satisfied: bleach in /usr/local/lib/python3.8/dist-packages (from panel>=0.8.0->holoviews->umap-learn[plot]) (6.0.0)\n",
            "Requirement already satisfied: six>=1.5 in /usr/local/lib/python3.8/dist-packages (from python-dateutil>=2.1->bokeh->umap-learn[plot]) (1.15.0)\n",
            "Requirement already satisfied: partd>=0.3.10 in /usr/local/lib/python3.8/dist-packages (from dask->datashader->umap-learn[plot]) (1.3.0)\n",
            "Requirement already satisfied: cloudpickle>=1.1.1 in /usr/local/lib/python3.8/dist-packages (from dask->datashader->umap-learn[plot]) (2.2.1)\n",
            "Requirement already satisfied: fsspec>=0.6.0 in /usr/local/lib/python3.8/dist-packages (from dask->datashader->umap-learn[plot]) (2023.1.0)\n",
            "Requirement already satisfied: multipledispatch>=0.4.7 in /usr/local/lib/python3.8/dist-packages (from datashape->datashader->umap-learn[plot]) (0.6.0)\n",
            "Requirement already satisfied: zipp>=0.5 in /usr/local/lib/python3.8/dist-packages (from importlib-metadata->numba>=0.49->umap-learn[plot]) (3.13.0)\n",
            "Requirement already satisfied: chardet<5,>=3.0.2 in /usr/local/lib/python3.8/dist-packages (from requests->datashader->umap-learn[plot]) (4.0.0)\n",
            "Requirement already satisfied: certifi>=2017.4.17 in /usr/local/lib/python3.8/dist-packages (from requests->datashader->umap-learn[plot]) (2022.12.7)\n",
            "Requirement already satisfied: urllib3<1.27,>=1.21.1 in /usr/local/lib/python3.8/dist-packages (from requests->datashader->umap-learn[plot]) (1.24.3)\n",
            "Requirement already satisfied: idna<3,>=2.5 in /usr/local/lib/python3.8/dist-packages (from requests->datashader->umap-learn[plot]) (2.10)\n",
            "Requirement already satisfied: locket in /usr/local/lib/python3.8/dist-packages (from partd>=0.3.10->dask->datashader->umap-learn[plot]) (1.0.0)\n",
            "Requirement already satisfied: webencodings in /usr/local/lib/python3.8/dist-packages (from bleach->panel>=0.8.0->holoviews->umap-learn[plot]) (0.5.1)\n",
            "Building wheels for collected packages: pynndescent, umap-learn, datashape\n",
            "  Building wheel for pynndescent (setup.py) ... \u001b[?25l\u001b[?25hdone\n",
            "  Created wheel for pynndescent: filename=pynndescent-0.5.8-py3-none-any.whl size=55513 sha256=22c6287fe78088b3272efda5ce95b74f94ef0fa17800129bffd956509c08f5e1\n",
            "  Stored in directory: /root/.cache/pip/wheels/1c/63/3a/29954bca1a27ba100ed8c27973a78cb71b43dc67aed62e80c3\n",
            "  Building wheel for umap-learn (setup.py) ... \u001b[?25l\u001b[?25hdone\n",
            "  Created wheel for umap-learn: filename=umap_learn-0.5.3-py3-none-any.whl size=82829 sha256=8c30d6f3da7dec2c4ae9838dfe61cee917475f71881789ed97bd169ccb129ce4\n",
            "  Stored in directory: /root/.cache/pip/wheels/a9/3a/67/06a8950e053725912e6a8c42c4a3a241410f6487b8402542ea\n",
            "  Building wheel for datashape (setup.py) ... \u001b[?25l\u001b[?25hdone\n",
            "  Created wheel for datashape: filename=datashape-0.5.2-py3-none-any.whl size=59439 sha256=86b378d7b2e095e85823815f25586ab9ffbb85b3d90032cb525fef60f973d743\n",
            "  Stored in directory: /root/.cache/pip/wheels/6d/79/c4/c425774559165f472d32e5ef592ff9a71179abb31f05dbc98b\n",
            "Successfully built pynndescent umap-learn datashape\n",
            "Installing collected packages: datashape, pynndescent, umap-learn, datashader\n",
            "Successfully installed datashader-0.14.4 datashape-0.5.2 pynndescent-0.5.8 umap-learn-0.5.3\n"
          ]
        }
      ],
      "source": [
        "!pip install umap-learn[plot]\n",
        "import numpy as np # linear algebra\n",
        "import pandas as pd # data processing, CSV file I/O (e.g. pd.read_csv)\n",
        "import math\n",
        "import cv2\n",
        "import matplotlib.pyplot as plt\n",
        "import os\n",
        "import seaborn as sns\n",
        "import umap\n",
        "from PIL import Image\n",
        "from scipy import misc\n",
        "from os import listdir\n",
        "from os.path import isfile, join\n",
        "import numpy as np\n",
        "from scipy import misc\n",
        "from random import shuffle\n",
        "from collections import Counter\n",
        "import matplotlib.pyplot as plt\n",
        "from sklearn.decomposition import PCA\n",
        "from sklearn.manifold import TSNE\n",
        "import tensorflow as tf\n",
        "from keras.models import Sequential\n",
        "from keras.layers import Conv2D, MaxPooling2D\n",
        "from keras.layers import Activation, Dropout, Flatten, Dense\n",
        "from keras.utils.np_utils import to_categorical"
      ]
    },
    {
      "cell_type": "code",
      "source": [
        "os.listdir('/dataset')"
      ],
      "metadata": {
        "id": "zTpFre-n3WpL",
        "colab": {
          "base_uri": "https://localhost:8080/"
        },
        "outputId": "52a3e342-2a8b-4853-8503-0e16531bcaab"
      },
      "execution_count": 3,
      "outputs": [
        {
          "output_type": "execute_result",
          "data": {
            "text/plain": [
              "['.ipynb_checkpoints', 'no', 'yes']"
            ]
          },
          "metadata": {},
          "execution_count": 3
        }
      ]
    },
    {
      "cell_type": "code",
      "source": [
        "im =Image.open('/dataset/no/no1.jpg').resize((128,128))\n",
        "im"
      ],
      "metadata": {
        "colab": {
          "base_uri": "https://localhost:8080/",
          "height": 145
        },
        "id": "SN82kCVn5crc",
        "outputId": "cc86de42-3953-4213-ca46-307a59f1d462"
      },
      "execution_count": 4,
      "outputs": [
        {
          "output_type": "execute_result",
          "data": {
            "text/plain": [
              "<PIL.Image.Image image mode=RGB size=128x128 at 0x7F2E813C1520>"
            ],
            "image/png": "[encoded data removed]"
          },
          "metadata": {},
          "execution_count": 4
        }
      ]
    },
    {
      "cell_type": "code",
      "source": [
        "im =Image.open('/dataset/yes/y1.jpg').resize((128,128))\n",
        "im"
      ],
      "metadata": {
        "colab": {
          "base_uri": "https://localhost:8080/",
          "height": 145
        },
        "id": "XnzmbSHY7i7x",
        "outputId": "b1ada0b7-d9dd-45e0-db6f-25f356521fc7"
      },
      "execution_count": 6,
      "outputs": [
        {
          "output_type": "execute_result",
          "data": {
            "text/plain": [
              "<PIL.Image.Image image mode=RGB size=128x128 at 0x7F2EE7A550A0>"
            ],
            "image/png": "[encoded data removed]"
          },
          "metadata": {},
          "execution_count": 6
        }
      ]
    },
    {
      "cell_type": "code",
      "source": [
        "yes=os.listdir('/dataset/yes')\n",
        "no=os.listdir('/dataset/no')"
      ],
      "metadata": {
        "id": "vM9JN1IS78_Y"
      },
      "execution_count": 7,
      "outputs": []
    },
    {
      "cell_type": "code",
      "source": [
        "data=np.concatenate([yes,no])\n",
        "len(data)==len(yes)+len(no)"
      ],
      "metadata": {
        "colab": {
          "base_uri": "https://localhost:8080/"
        },
        "id": "EDflCxEN8VS8",
        "outputId": "87261db7-81bc-4740-cb1e-8f80103b6e20"
      },
      "execution_count": 8,
      "outputs": [
        {
          "output_type": "execute_result",
          "data": {
            "text/plain": [
              "True"
            ]
          },
          "metadata": {},
          "execution_count": 8
        }
      ]
    },
    {
      "cell_type": "code",
      "source": [
        "target_x=np.full(len(yes),1)\n",
        "target_y=np.full(len(no),0)\n",
        "data_target=np.concatenate([target_x,target_y])\n",
        "len(data_target)==len(target_x)+len(target_y)"
      ],
      "metadata": {
        "colab": {
          "base_uri": "https://localhost:8080/"
        },
        "id": "hzYg5ckv8ZMA",
        "outputId": "58fa319a-6537-4c64-9542-a1b5d4345bdf"
      },
      "execution_count": 9,
      "outputs": [
        {
          "output_type": "execute_result",
          "data": {
            "text/plain": [
              "True"
            ]
          },
          "metadata": {},
          "execution_count": 9
        }
      ]
    },
    {
      "cell_type": "code",
      "source": [
        "len(data_target)==len(data)"
      ],
      "metadata": {
        "colab": {
          "base_uri": "https://localhost:8080/"
        },
        "id": "BH6sbqt18eAD",
        "outputId": "fbb880fd-1a0d-4ab5-9aab-eec8827bf4d8"
      },
      "execution_count": 10,
      "outputs": [
        {
          "output_type": "execute_result",
          "data": {
            "text/plain": [
              "True"
            ]
          },
          "metadata": {},
          "execution_count": 10
        }
      ]
    },
    {
      "cell_type": "code",
      "source": [
        "data_target"
      ],
      "metadata": {
        "colab": {
          "base_uri": "https://localhost:8080/"
        },
        "id": "1C0SWUxf8hHB",
        "outputId": "98701834-8973-4802-903f-b4ed8eae62ed"
      },
      "execution_count": 11,
      "outputs": [
        {
          "output_type": "execute_result",
          "data": {
            "text/plain": [
              "array([1, 1, 1, ..., 0, 0, 0])"
            ]
          },
          "metadata": {},
          "execution_count": 11
        }
      ]
    },
    {
      "cell_type": "code",
      "source": [
        "data"
      ],
      "metadata": {
        "colab": {
          "base_uri": "https://localhost:8080/"
        },
        "id": "HqmgX51D8n9A",
        "outputId": "0bf02ca1-ddf7-46a5-95d5-1863507ab9c5"
      },
      "execution_count": 12,
      "outputs": [
        {
          "output_type": "execute_result",
          "data": {
            "text/plain": [
              "array(['y1185.jpg', 'y1045.jpg', 'y1244.jpg', ..., 'no252.jpg',\n",
              "       'no583.jpg', 'no349.jpg'], dtype='<U10')"
            ]
          },
          "metadata": {},
          "execution_count": 12
        }
      ]
    },
    {
      "cell_type": "code",
      "source": [
        "yes_values=os.listdir('/dataset/yes')\n",
        "no_values=os.listdir('/dataset/no')"
      ],
      "metadata": {
        "id": "TTdxf9jI8wW6"
      },
      "execution_count": 13,
      "outputs": []
    },
    {
      "cell_type": "code",
      "source": [
        "X_data =[]\n",
        "for file in yes_values:\n",
        "    #face = misc.imread('../input/brain_tumor_dataset/yes/'+file)\n",
        "    img = cv2.imread('/dataset/yes/'+file)\n",
        "    face = cv2.resize(img, (32, 32) )\n",
        "    (b, g, r)=cv2.split(face) \n",
        "    img=cv2.merge([r,g,b])\n",
        "    X_data.append(img)"
      ],
      "metadata": {
        "id": "vMYDyQGG8_Hn"
      },
      "execution_count": 14,
      "outputs": []
    },
    {
      "cell_type": "code",
      "source": [
        "for file in no_values:\n",
        "    #face = misc.imread('../input/brain_tumor_dataset/yes/'+file)\n",
        "    img = cv2.imread('/dataset/no/'+file)\n",
        "    face = cv2.resize(img, (32, 32) )\n",
        "    (b, g, r)=cv2.split(face) \n",
        "    img=cv2.merge([r,g,b])\n",
        "    X_data.append(img)"
      ],
      "metadata": {
        "id": "2fAxWwyF9X-l"
      },
      "execution_count": 15,
      "outputs": []
    },
    {
      "cell_type": "code",
      "source": [
        "len(X_data)==len(data)==len(data_target)"
      ],
      "metadata": {
        "colab": {
          "base_uri": "https://localhost:8080/"
        },
        "id": "aTQaniMi9jp_",
        "outputId": "b8ba895c-3643-4498-aa67-5b561820af3d"
      },
      "execution_count": 16,
      "outputs": [
        {
          "output_type": "execute_result",
          "data": {
            "text/plain": [
              "True"
            ]
          },
          "metadata": {},
          "execution_count": 16
        }
      ]
    },
    {
      "cell_type": "code",
      "source": [
        "X = np.squeeze(X_data)"
      ],
      "metadata": {
        "id": "lTbNQ5PK9mwU"
      },
      "execution_count": 17,
      "outputs": []
    },
    {
      "cell_type": "code",
      "source": [
        "X.shape"
      ],
      "metadata": {
        "colab": {
          "base_uri": "https://localhost:8080/"
        },
        "id": "bXT5ICGp9rCa",
        "outputId": "8c3c1830-8b31-4ba5-9339-f4551d34a92a"
      },
      "execution_count": 18,
      "outputs": [
        {
          "output_type": "execute_result",
          "data": {
            "text/plain": [
              "(2721, 32, 32, 3)"
            ]
          },
          "metadata": {},
          "execution_count": 18
        }
      ]
    },
    {
      "cell_type": "code",
      "source": [
        "X = X.astype('float32')\n",
        "X /= 255"
      ],
      "metadata": {
        "id": "Yg0ULN3E90R9"
      },
      "execution_count": 19,
      "outputs": []
    },
    {
      "cell_type": "code",
      "source": [
        "data_target"
      ],
      "metadata": {
        "colab": {
          "base_uri": "https://localhost:8080/"
        },
        "id": "eDSd_LHY-JdF",
        "outputId": "b79d6ff9-a51b-4efc-f19a-663e1fb9e9a6"
      },
      "execution_count": 20,
      "outputs": [
        {
          "output_type": "execute_result",
          "data": {
            "text/plain": [
              "array([1, 1, 1, ..., 0, 0, 0])"
            ]
          },
          "metadata": {},
          "execution_count": 20
        }
      ]
    },
    {
      "cell_type": "code",
      "source": [
        "(x_train, y_train), (x_test, y_test) = (X[:2177],data_target[:2177]) , (X[272:] , data_target[272:])\n",
        "(x_valid , y_valid) = (x_test[:272], y_test[:272])"
      ],
      "metadata": {
        "id": "L1PkHEtB-Wps"
      },
      "execution_count": 21,
      "outputs": []
    },
    {
      "cell_type": "code",
      "source": [
        "model = tf.keras.Sequential()\n",
        "\n",
        "# Must define the input shape in the first layer of the neural network\n",
        "model.add(tf.keras.layers.Conv2D(filters=16,kernel_size=9, padding='same', activation='relu', input_shape=(32,32,3))) \n",
        "model.add(tf.keras.layers.MaxPooling2D(pool_size=2))\n",
        "model.add(tf.keras.layers.Dropout(0.45))\n",
        "\n",
        "model.add(tf.keras.layers.Conv2D(filters=16,kernel_size=9,padding='same', activation='relu'))\n",
        "model.add(tf.keras.layers.MaxPooling2D(pool_size=2))\n",
        "model.add(tf.keras.layers.Dropout(0.25))\n",
        "\n",
        "model.add(tf.keras.layers.Conv2D(filters=36, kernel_size=9, padding='same', activation='relu'))\n",
        "model.add(tf.keras.layers.MaxPooling2D(pool_size=2))\n",
        "model.add(tf.keras.layers.Dropout(0.25))\n",
        "\n",
        "model.add(tf.keras.layers.Flatten())\n",
        "\n",
        "model.add(tf.keras.layers.Dense(512, activation='relu'))\n",
        "model.add(tf.keras.layers.Dropout(0.15))\n",
        "\n",
        "\n",
        "model.add(tf.keras.layers.Dense(1, activation='sigmoid'))\n",
        "\n",
        "# Take a look at the model summary\n",
        "model.summary()"
      ],
      "metadata": {
        "colab": {
          "base_uri": "https://localhost:8080/"
        },
        "id": "VZutFzqK_jwd",
        "outputId": "95c58122-e574-4ef1-f478-eff072b31960"
      },
      "execution_count": 22,
      "outputs": [
        {
          "output_type": "stream",
          "name": "stdout",
          "text": [
            "Model: \"sequential\"\n",
            "_________________________________________________________________\n",
            " Layer (type)                Output Shape              Param #   \n",
            "=================================================================\n",
            " conv2d (Conv2D)             (None, 32, 32, 16)        3904      \n",
            "                                                                 \n",
            " max_pooling2d (MaxPooling2D  (None, 16, 16, 16)       0         \n",
            " )                                                               \n",
            "                                                                 \n",
            " dropout (Dropout)           (None, 16, 16, 16)        0         \n",
            "                                                                 \n",
            " conv2d_1 (Conv2D)           (None, 16, 16, 16)        20752     \n",
            "                                                                 \n",
            " max_pooling2d_1 (MaxPooling  (None, 8, 8, 16)         0         \n",
            " 2D)                                                             \n",
            "                                                                 \n",
            " dropout_1 (Dropout)         (None, 8, 8, 16)          0         \n",
            "                                                                 \n",
            " conv2d_2 (Conv2D)           (None, 8, 8, 36)          46692     \n",
            "                                                                 \n",
            " max_pooling2d_2 (MaxPooling  (None, 4, 4, 36)         0         \n",
            " 2D)                                                             \n",
            "                                                                 \n",
            " dropout_2 (Dropout)         (None, 4, 4, 36)          0         \n",
            "                                                                 \n",
            " flatten (Flatten)           (None, 576)               0         \n",
            "                                                                 \n",
            " dense (Dense)               (None, 512)               295424    \n",
            "                                                                 \n",
            " dropout_3 (Dropout)         (None, 512)               0         \n",
            "                                                                 \n",
            " dense_1 (Dense)             (None, 1)                 513       \n",
            "                                                                 \n",
            "=================================================================\n",
            "Total params: 367,285\n",
            "Trainable params: 367,285\n",
            "Non-trainable params: 0\n",
            "_________________________________________________________________\n"
          ]
        }
      ]
    },
    {
      "cell_type": "code",
      "source": [
        "model.compile(loss='binary_crossentropy',\n",
        "             optimizer=tf.keras.optimizers.Adam(),\n",
        "             metrics=['acc'])"
      ],
      "metadata": {
        "id": "8srA0GFnAKZA"
      },
      "execution_count": 23,
      "outputs": []
    },
    {
      "cell_type": "code",
      "source": [
        "model.fit(x_train,\n",
        "         y_train,\n",
        "         batch_size=128,\n",
        "         epochs=150,\n",
        "         validation_data=(x_valid, y_valid),)"
      ],
      "metadata": {
        "colab": {
          "base_uri": "https://localhost:8080/"
        },
        "id": "hZ_Is_gVAf1n",
        "outputId": "75484ebb-5cd4-462c-f7ed-02a68c37eafe"
      },
      "execution_count": 24,
      "outputs": [
        {
          "output_type": "stream",
          "name": "stdout",
          "text": [
            "Epoch 1/150\n",
            "18/18 [==============================] - 13s 650ms/step - loss: 0.7073 - acc: 0.6100 - val_loss: 0.5480 - val_acc: 1.0000\n",
            "Epoch 2/150\n",
            "18/18 [==============================] - 11s 626ms/step - loss: 0.6429 - acc: 0.6279 - val_loss: 0.5121 - val_acc: 1.0000\n",
            "Epoch 3/150\n",
            "18/18 [==============================] - 10s 573ms/step - loss: 0.6241 - acc: 0.6279 - val_loss: 0.5510 - val_acc: 1.0000\n",
            "Epoch 4/150\n",
            "18/18 [==============================] - 11s 583ms/step - loss: 0.6238 - acc: 0.6527 - val_loss: 0.5496 - val_acc: 1.0000\n",
            "Epoch 5/150\n",
            "18/18 [==============================] - 11s 632ms/step - loss: 0.5894 - acc: 0.7102 - val_loss: 0.2325 - val_acc: 0.9963\n",
            "Epoch 6/150\n",
            "18/18 [==============================] - 11s 629ms/step - loss: 0.5768 - acc: 0.7037 - val_loss: 0.3639 - val_acc: 0.9632\n",
            "Epoch 7/150\n",
            "18/18 [==============================] - 11s 627ms/step - loss: 0.5174 - acc: 0.7570 - val_loss: 0.4051 - val_acc: 0.9301\n",
            "Epoch 8/150\n",
            "18/18 [==============================] - 11s 629ms/step - loss: 0.5455 - acc: 0.7180 - val_loss: 0.4269 - val_acc: 0.8750\n",
            "Epoch 9/150\n",
            "18/18 [==============================] - 12s 644ms/step - loss: 0.5094 - acc: 0.7570 - val_loss: 0.3605 - val_acc: 0.9154\n",
            "Epoch 10/150\n",
            "18/18 [==============================] - 10s 562ms/step - loss: 0.4835 - acc: 0.7800 - val_loss: 0.5616 - val_acc: 0.7978\n",
            "Epoch 11/150\n",
            "18/18 [==============================] - 11s 582ms/step - loss: 0.5075 - acc: 0.7639 - val_loss: 0.3993 - val_acc: 0.8750\n",
            "Epoch 12/150\n",
            "18/18 [==============================] - 11s 631ms/step - loss: 0.4703 - acc: 0.7850 - val_loss: 0.3075 - val_acc: 0.9412\n",
            "Epoch 13/150\n",
            "18/18 [==============================] - 11s 629ms/step - loss: 0.4715 - acc: 0.7850 - val_loss: 0.3006 - val_acc: 0.9301\n",
            "Epoch 14/150\n",
            "18/18 [==============================] - 11s 641ms/step - loss: 0.4531 - acc: 0.7942 - val_loss: 0.3796 - val_acc: 0.9265\n",
            "Epoch 15/150\n",
            "18/18 [==============================] - 11s 639ms/step - loss: 0.4951 - acc: 0.7873 - val_loss: 0.3720 - val_acc: 0.9228\n",
            "Epoch 16/150\n",
            "18/18 [==============================] - 11s 635ms/step - loss: 0.4809 - acc: 0.7781 - val_loss: 0.3673 - val_acc: 0.9081\n",
            "Epoch 17/150\n",
            "18/18 [==============================] - 11s 600ms/step - loss: 0.4551 - acc: 0.7938 - val_loss: 0.2419 - val_acc: 0.9669\n",
            "Epoch 18/150\n",
            "18/18 [==============================] - 11s 594ms/step - loss: 0.4507 - acc: 0.7892 - val_loss: 0.2827 - val_acc: 0.9485\n",
            "Epoch 19/150\n",
            "18/18 [==============================] - 11s 628ms/step - loss: 0.4329 - acc: 0.8080 - val_loss: 0.2325 - val_acc: 0.9522\n",
            "Epoch 20/150\n",
            "18/18 [==============================] - 11s 629ms/step - loss: 0.4261 - acc: 0.8080 - val_loss: 0.2420 - val_acc: 0.9485\n",
            "Epoch 21/150\n",
            "18/18 [==============================] - 11s 623ms/step - loss: 0.4043 - acc: 0.8117 - val_loss: 0.3627 - val_acc: 0.8824\n",
            "Epoch 22/150\n",
            "18/18 [==============================] - 11s 629ms/step - loss: 0.4312 - acc: 0.8029 - val_loss: 0.2897 - val_acc: 0.9081\n",
            "Epoch 23/150\n",
            "18/18 [==============================] - 11s 605ms/step - loss: 0.4141 - acc: 0.8126 - val_loss: 0.2791 - val_acc: 0.9265\n",
            "Epoch 24/150\n",
            "18/18 [==============================] - 10s 544ms/step - loss: 0.3991 - acc: 0.8213 - val_loss: 0.3275 - val_acc: 0.9081\n",
            "Epoch 25/150\n",
            "18/18 [==============================] - 11s 625ms/step - loss: 0.3768 - acc: 0.8337 - val_loss: 0.2321 - val_acc: 0.9412\n",
            "Epoch 26/150\n",
            "18/18 [==============================] - 11s 631ms/step - loss: 0.3495 - acc: 0.8525 - val_loss: 0.1908 - val_acc: 0.9522\n",
            "Epoch 27/150\n",
            "18/18 [==============================] - 11s 634ms/step - loss: 0.3298 - acc: 0.8585 - val_loss: 0.2385 - val_acc: 0.9228\n",
            "Epoch 28/150\n",
            "18/18 [==============================] - 11s 632ms/step - loss: 0.3204 - acc: 0.8631 - val_loss: 0.5455 - val_acc: 0.7096\n",
            "Epoch 29/150\n",
            "18/18 [==============================] - 11s 634ms/step - loss: 0.4167 - acc: 0.8029 - val_loss: 0.3753 - val_acc: 0.8676\n",
            "Epoch 30/150\n",
            "18/18 [==============================] - 10s 581ms/step - loss: 0.4482 - acc: 0.7878 - val_loss: 0.5470 - val_acc: 0.8235\n",
            "Epoch 31/150\n",
            "18/18 [==============================] - 11s 556ms/step - loss: 0.4199 - acc: 0.8121 - val_loss: 0.2511 - val_acc: 0.9301\n",
            "Epoch 32/150\n",
            "18/18 [==============================] - 11s 630ms/step - loss: 0.3773 - acc: 0.8333 - val_loss: 0.2555 - val_acc: 0.9522\n",
            "Epoch 33/150\n",
            "18/18 [==============================] - 11s 637ms/step - loss: 0.3524 - acc: 0.8475 - val_loss: 0.2751 - val_acc: 0.9412\n",
            "Epoch 34/150\n",
            "18/18 [==============================] - 11s 639ms/step - loss: 0.4300 - acc: 0.7970 - val_loss: 0.2616 - val_acc: 0.9559\n",
            "Epoch 35/150\n",
            "18/18 [==============================] - 12s 651ms/step - loss: 0.3753 - acc: 0.8342 - val_loss: 0.2425 - val_acc: 0.9375\n",
            "Epoch 36/150\n",
            "18/18 [==============================] - 12s 645ms/step - loss: 0.3340 - acc: 0.8594 - val_loss: 0.6524 - val_acc: 0.6213\n",
            "Epoch 37/150\n",
            "18/18 [==============================] - 11s 600ms/step - loss: 0.3656 - acc: 0.8438 - val_loss: 0.3055 - val_acc: 0.9007\n",
            "Epoch 38/150\n",
            "18/18 [==============================] - 11s 556ms/step - loss: 0.3304 - acc: 0.8567 - val_loss: 0.1564 - val_acc: 0.9779\n",
            "Epoch 39/150\n",
            "18/18 [==============================] - 11s 641ms/step - loss: 0.3709 - acc: 0.8337 - val_loss: 0.2296 - val_acc: 0.9559\n",
            "Epoch 40/150\n",
            "18/18 [==============================] - 11s 636ms/step - loss: 0.3841 - acc: 0.8167 - val_loss: 0.2419 - val_acc: 0.9485\n",
            "Epoch 41/150\n",
            "18/18 [==============================] - 12s 644ms/step - loss: 0.3373 - acc: 0.8613 - val_loss: 0.1623 - val_acc: 0.9890\n",
            "Epoch 42/150\n",
            "18/18 [==============================] - 11s 637ms/step - loss: 0.4159 - acc: 0.8213 - val_loss: 0.2649 - val_acc: 0.9559\n",
            "Epoch 43/150\n",
            "18/18 [==============================] - 11s 635ms/step - loss: 0.3454 - acc: 0.8493 - val_loss: 0.2838 - val_acc: 0.9154\n",
            "Epoch 44/150\n",
            "18/18 [==============================] - 11s 598ms/step - loss: 0.3603 - acc: 0.8447 - val_loss: 0.2077 - val_acc: 0.9522\n",
            "Epoch 45/150\n",
            "18/18 [==============================] - 10s 546ms/step - loss: 0.3493 - acc: 0.8484 - val_loss: 0.1886 - val_acc: 0.9706\n",
            "Epoch 46/150\n",
            "18/18 [==============================] - 11s 630ms/step - loss: 0.3146 - acc: 0.8695 - val_loss: 0.2562 - val_acc: 0.9375\n",
            "Epoch 47/150\n",
            "18/18 [==============================] - 11s 633ms/step - loss: 0.2849 - acc: 0.8861 - val_loss: 0.2182 - val_acc: 0.9596\n",
            "Epoch 48/150\n",
            "18/18 [==============================] - 11s 630ms/step - loss: 0.2794 - acc: 0.8856 - val_loss: 0.1999 - val_acc: 0.9522\n",
            "Epoch 49/150\n",
            "18/18 [==============================] - 11s 633ms/step - loss: 0.2677 - acc: 0.8902 - val_loss: 0.2080 - val_acc: 0.9522\n",
            "Epoch 50/150\n",
            "18/18 [==============================] - 12s 644ms/step - loss: 0.2508 - acc: 0.9031 - val_loss: 0.0921 - val_acc: 0.9926\n",
            "Epoch 51/150\n",
            "18/18 [==============================] - 10s 542ms/step - loss: 0.2883 - acc: 0.8833 - val_loss: 0.2482 - val_acc: 0.9412\n",
            "Epoch 52/150\n",
            "18/18 [==============================] - 15s 819ms/step - loss: 0.2903 - acc: 0.8884 - val_loss: 0.2497 - val_acc: 0.9191\n",
            "Epoch 53/150\n",
            "18/18 [==============================] - 10s 541ms/step - loss: 0.2482 - acc: 0.8999 - val_loss: 0.1455 - val_acc: 0.9779\n",
            "Epoch 54/150\n",
            "18/18 [==============================] - 11s 625ms/step - loss: 0.2552 - acc: 0.8999 - val_loss: 0.1922 - val_acc: 0.9449\n",
            "Epoch 55/150\n",
            "18/18 [==============================] - 11s 627ms/step - loss: 0.2220 - acc: 0.9118 - val_loss: 0.1697 - val_acc: 0.9596\n",
            "Epoch 56/150\n",
            "18/18 [==============================] - 11s 631ms/step - loss: 0.2105 - acc: 0.9187 - val_loss: 0.1104 - val_acc: 0.9926\n",
            "Epoch 57/150\n",
            "18/18 [==============================] - 11s 632ms/step - loss: 0.2081 - acc: 0.9233 - val_loss: 0.1157 - val_acc: 0.9963\n",
            "Epoch 58/150\n",
            "18/18 [==============================] - 12s 654ms/step - loss: 0.1992 - acc: 0.9159 - val_loss: 0.1961 - val_acc: 0.9449\n",
            "Epoch 59/150\n",
            "18/18 [==============================] - 11s 612ms/step - loss: 0.1974 - acc: 0.9237 - val_loss: 0.1018 - val_acc: 0.9926\n",
            "Epoch 60/150\n",
            "18/18 [==============================] - 10s 545ms/step - loss: 0.2873 - acc: 0.8824 - val_loss: 0.1374 - val_acc: 0.9853\n",
            "Epoch 61/150\n",
            "18/18 [==============================] - 11s 633ms/step - loss: 0.3027 - acc: 0.8654 - val_loss: 0.1575 - val_acc: 0.9779\n",
            "Epoch 62/150\n",
            "18/18 [==============================] - 11s 637ms/step - loss: 0.2786 - acc: 0.8838 - val_loss: 0.1165 - val_acc: 0.9890\n",
            "Epoch 63/150\n",
            "18/18 [==============================] - 11s 628ms/step - loss: 0.4243 - acc: 0.8025 - val_loss: 0.2415 - val_acc: 0.9522\n",
            "Epoch 64/150\n",
            "18/18 [==============================] - 11s 635ms/step - loss: 0.3330 - acc: 0.8622 - val_loss: 0.1979 - val_acc: 0.9559\n",
            "Epoch 65/150\n",
            "18/18 [==============================] - 11s 640ms/step - loss: 0.2705 - acc: 0.8879 - val_loss: 0.1673 - val_acc: 0.9632\n",
            "Epoch 66/150\n",
            "18/18 [==============================] - 10s 574ms/step - loss: 0.2632 - acc: 0.8875 - val_loss: 0.1355 - val_acc: 0.9853\n",
            "Epoch 67/150\n",
            "18/18 [==============================] - 11s 575ms/step - loss: 0.2438 - acc: 0.8971 - val_loss: 0.1272 - val_acc: 0.9890\n",
            "Epoch 68/150\n",
            "18/18 [==============================] - 11s 630ms/step - loss: 0.2402 - acc: 0.8980 - val_loss: 0.1717 - val_acc: 0.9632\n",
            "Epoch 69/150\n",
            "18/18 [==============================] - 11s 628ms/step - loss: 0.2263 - acc: 0.9104 - val_loss: 0.1433 - val_acc: 0.9853\n",
            "Epoch 70/150\n",
            "18/18 [==============================] - 11s 634ms/step - loss: 0.1943 - acc: 0.9256 - val_loss: 0.1196 - val_acc: 0.9853\n",
            "Epoch 71/150\n",
            "18/18 [==============================] - 11s 634ms/step - loss: 0.1831 - acc: 0.9343 - val_loss: 0.1100 - val_acc: 0.9853\n",
            "Epoch 72/150\n",
            "18/18 [==============================] - 11s 629ms/step - loss: 0.1849 - acc: 0.9247 - val_loss: 0.1165 - val_acc: 0.9890\n",
            "Epoch 73/150\n",
            "18/18 [==============================] - 10s 544ms/step - loss: 0.1857 - acc: 0.9265 - val_loss: 0.0877 - val_acc: 0.9963\n",
            "Epoch 74/150\n",
            "18/18 [==============================] - 11s 610ms/step - loss: 0.3450 - acc: 0.8434 - val_loss: 0.3853 - val_acc: 0.8382\n",
            "Epoch 75/150\n",
            "18/18 [==============================] - 11s 624ms/step - loss: 0.3287 - acc: 0.8548 - val_loss: 0.2555 - val_acc: 0.9154\n",
            "Epoch 76/150\n",
            "18/18 [==============================] - 11s 627ms/step - loss: 0.2685 - acc: 0.8879 - val_loss: 0.1553 - val_acc: 0.9706\n",
            "Epoch 77/150\n",
            "18/18 [==============================] - 11s 630ms/step - loss: 0.2187 - acc: 0.9150 - val_loss: 0.1122 - val_acc: 0.9779\n",
            "Epoch 78/150\n",
            "18/18 [==============================] - 11s 633ms/step - loss: 0.2310 - acc: 0.9072 - val_loss: 0.0674 - val_acc: 0.9926\n",
            "Epoch 79/150\n",
            "18/18 [==============================] - 11s 591ms/step - loss: 0.3125 - acc: 0.8838 - val_loss: 0.2241 - val_acc: 0.9522\n",
            "Epoch 80/150\n",
            "18/18 [==============================] - 11s 556ms/step - loss: 0.2570 - acc: 0.8971 - val_loss: 0.1645 - val_acc: 0.9743\n",
            "Epoch 81/150\n",
            "18/18 [==============================] - 11s 633ms/step - loss: 0.2106 - acc: 0.9146 - val_loss: 0.0927 - val_acc: 0.9926\n",
            "Epoch 82/150\n",
            "18/18 [==============================] - 11s 629ms/step - loss: 0.2162 - acc: 0.9100 - val_loss: 0.1335 - val_acc: 0.9853\n",
            "Epoch 83/150\n",
            "18/18 [==============================] - 11s 628ms/step - loss: 0.2555 - acc: 0.8966 - val_loss: 0.1760 - val_acc: 0.9816\n",
            "Epoch 84/150\n",
            "18/18 [==============================] - 11s 627ms/step - loss: 0.2227 - acc: 0.9090 - val_loss: 0.1617 - val_acc: 0.9632\n",
            "Epoch 85/150\n",
            "18/18 [==============================] - 11s 626ms/step - loss: 0.1986 - acc: 0.9224 - val_loss: 0.1174 - val_acc: 0.9853\n",
            "Epoch 86/150\n",
            "18/18 [==============================] - 10s 548ms/step - loss: 0.1738 - acc: 0.9297 - val_loss: 0.1263 - val_acc: 0.9706\n",
            "Epoch 87/150\n",
            "18/18 [==============================] - 11s 607ms/step - loss: 0.2484 - acc: 0.8930 - val_loss: 0.1084 - val_acc: 0.9743\n",
            "Epoch 88/150\n",
            "18/18 [==============================] - 11s 630ms/step - loss: 0.1973 - acc: 0.9251 - val_loss: 0.0952 - val_acc: 0.9890\n",
            "Epoch 89/150\n",
            "18/18 [==============================] - 11s 627ms/step - loss: 0.1620 - acc: 0.9366 - val_loss: 0.0865 - val_acc: 0.9890\n",
            "Epoch 90/150\n",
            "18/18 [==============================] - 11s 639ms/step - loss: 0.1474 - acc: 0.9389 - val_loss: 0.1862 - val_acc: 0.9412\n",
            "Epoch 91/150\n",
            "18/18 [==============================] - 11s 626ms/step - loss: 0.3126 - acc: 0.8686 - val_loss: 0.2249 - val_acc: 0.9485\n",
            "Epoch 92/150\n",
            "18/18 [==============================] - 11s 588ms/step - loss: 0.2705 - acc: 0.8907 - val_loss: 0.1111 - val_acc: 0.9853\n",
            "Epoch 93/150\n",
            "18/18 [==============================] - 11s 565ms/step - loss: 0.2576 - acc: 0.8976 - val_loss: 0.1630 - val_acc: 0.9779\n",
            "Epoch 94/150\n",
            "18/18 [==============================] - 11s 624ms/step - loss: 0.2234 - acc: 0.9136 - val_loss: 0.1191 - val_acc: 0.9926\n",
            "Epoch 95/150\n",
            "18/18 [==============================] - 11s 629ms/step - loss: 0.2172 - acc: 0.9150 - val_loss: 0.1168 - val_acc: 0.9926\n",
            "Epoch 96/150\n",
            "18/18 [==============================] - 11s 630ms/step - loss: 0.2485 - acc: 0.8962 - val_loss: 0.1288 - val_acc: 0.9890\n",
            "Epoch 97/150\n",
            "18/18 [==============================] - 11s 635ms/step - loss: 0.2028 - acc: 0.9173 - val_loss: 0.0940 - val_acc: 0.9890\n",
            "Epoch 98/150\n",
            "18/18 [==============================] - 11s 629ms/step - loss: 0.1719 - acc: 0.9306 - val_loss: 0.1034 - val_acc: 0.9853\n",
            "Epoch 99/150\n",
            "18/18 [==============================] - 10s 543ms/step - loss: 0.1783 - acc: 0.9260 - val_loss: 0.0785 - val_acc: 0.9963\n",
            "Epoch 100/150\n",
            "18/18 [==============================] - 11s 602ms/step - loss: 0.1569 - acc: 0.9375 - val_loss: 0.0711 - val_acc: 0.9926\n",
            "Epoch 101/150\n",
            "18/18 [==============================] - 11s 642ms/step - loss: 0.1475 - acc: 0.9421 - val_loss: 0.0603 - val_acc: 1.0000\n",
            "Epoch 102/150\n",
            "18/18 [==============================] - 11s 635ms/step - loss: 0.1458 - acc: 0.9430 - val_loss: 0.0942 - val_acc: 0.9890\n",
            "Epoch 103/150\n",
            "18/18 [==============================] - 11s 636ms/step - loss: 0.3081 - acc: 0.8663 - val_loss: 0.2194 - val_acc: 0.9706\n",
            "Epoch 104/150\n",
            "18/18 [==============================] - 11s 632ms/step - loss: 0.2496 - acc: 0.8921 - val_loss: 0.1403 - val_acc: 0.9706\n",
            "Epoch 105/150\n",
            "18/18 [==============================] - 11s 618ms/step - loss: 0.1777 - acc: 0.9279 - val_loss: 0.0883 - val_acc: 0.9963\n",
            "Epoch 106/150\n",
            "18/18 [==============================] - 10s 544ms/step - loss: 0.1623 - acc: 0.9366 - val_loss: 0.0507 - val_acc: 1.0000\n",
            "Epoch 107/150\n",
            "18/18 [==============================] - 11s 623ms/step - loss: 0.1414 - acc: 0.9440 - val_loss: 0.0669 - val_acc: 0.9963\n",
            "Epoch 108/150\n",
            "18/18 [==============================] - 11s 628ms/step - loss: 0.1436 - acc: 0.9467 - val_loss: 0.0575 - val_acc: 0.9963\n",
            "Epoch 109/150\n",
            "18/18 [==============================] - 11s 637ms/step - loss: 0.1168 - acc: 0.9591 - val_loss: 0.0805 - val_acc: 0.9853\n",
            "Epoch 110/150\n",
            "18/18 [==============================] - 11s 627ms/step - loss: 0.1211 - acc: 0.9545 - val_loss: 0.0474 - val_acc: 0.9926\n",
            "Epoch 111/150\n",
            "18/18 [==============================] - 11s 630ms/step - loss: 0.1179 - acc: 0.9591 - val_loss: 0.0431 - val_acc: 0.9963\n",
            "Epoch 112/150\n",
            "18/18 [==============================] - 11s 585ms/step - loss: 0.1178 - acc: 0.9573 - val_loss: 0.0265 - val_acc: 1.0000\n",
            "Epoch 113/150\n",
            "18/18 [==============================] - 11s 563ms/step - loss: 0.1224 - acc: 0.9513 - val_loss: 0.0341 - val_acc: 1.0000\n",
            "Epoch 114/150\n",
            "18/18 [==============================] - 11s 636ms/step - loss: 0.1126 - acc: 0.9591 - val_loss: 0.0535 - val_acc: 0.9963\n",
            "Epoch 115/150\n",
            "18/18 [==============================] - 11s 638ms/step - loss: 0.1100 - acc: 0.9600 - val_loss: 0.0408 - val_acc: 0.9926\n",
            "Epoch 116/150\n",
            "18/18 [==============================] - 11s 638ms/step - loss: 0.0928 - acc: 0.9623 - val_loss: 0.0339 - val_acc: 0.9963\n",
            "Epoch 117/150\n",
            "18/18 [==============================] - 12s 658ms/step - loss: 0.0932 - acc: 0.9637 - val_loss: 0.0371 - val_acc: 1.0000\n",
            "Epoch 118/150\n",
            "18/18 [==============================] - 11s 634ms/step - loss: 0.1011 - acc: 0.9587 - val_loss: 0.0392 - val_acc: 0.9926\n",
            "Epoch 119/150\n",
            "18/18 [==============================] - 11s 609ms/step - loss: 0.1010 - acc: 0.9628 - val_loss: 0.0350 - val_acc: 1.0000\n",
            "Epoch 120/150\n",
            "18/18 [==============================] - 10s 543ms/step - loss: 0.0950 - acc: 0.9646 - val_loss: 0.0303 - val_acc: 1.0000\n",
            "Epoch 121/150\n",
            "18/18 [==============================] - 11s 625ms/step - loss: 0.0944 - acc: 0.9683 - val_loss: 0.0380 - val_acc: 0.9963\n",
            "Epoch 122/150\n",
            "18/18 [==============================] - 11s 627ms/step - loss: 0.0832 - acc: 0.9701 - val_loss: 0.0256 - val_acc: 1.0000\n",
            "Epoch 123/150\n",
            "18/18 [==============================] - 11s 634ms/step - loss: 0.1009 - acc: 0.9623 - val_loss: 0.0228 - val_acc: 1.0000\n",
            "Epoch 124/150\n",
            "18/18 [==============================] - 11s 639ms/step - loss: 0.0909 - acc: 0.9669 - val_loss: 0.0274 - val_acc: 1.0000\n",
            "Epoch 125/150\n",
            "18/18 [==============================] - 11s 633ms/step - loss: 0.0880 - acc: 0.9683 - val_loss: 0.1138 - val_acc: 0.9706\n",
            "Epoch 126/150\n",
            "18/18 [==============================] - 10s 580ms/step - loss: 0.4422 - acc: 0.8328 - val_loss: 0.2264 - val_acc: 0.9412\n",
            "Epoch 127/150\n",
            "18/18 [==============================] - 11s 565ms/step - loss: 0.3361 - acc: 0.8521 - val_loss: 0.1422 - val_acc: 0.9632\n",
            "Epoch 128/150\n",
            "18/18 [==============================] - 11s 634ms/step - loss: 0.2585 - acc: 0.8985 - val_loss: 0.1304 - val_acc: 0.9816\n",
            "Epoch 129/150\n",
            "18/18 [==============================] - 11s 631ms/step - loss: 0.1856 - acc: 0.9242 - val_loss: 0.0772 - val_acc: 0.9890\n",
            "Epoch 130/150\n",
            "18/18 [==============================] - 11s 631ms/step - loss: 0.1783 - acc: 0.9306 - val_loss: 0.0690 - val_acc: 0.9890\n",
            "Epoch 131/150\n",
            "18/18 [==============================] - 11s 631ms/step - loss: 0.1515 - acc: 0.9426 - val_loss: 0.0536 - val_acc: 0.9963\n",
            "Epoch 132/150\n",
            "18/18 [==============================] - 11s 628ms/step - loss: 0.1248 - acc: 0.9545 - val_loss: 0.0354 - val_acc: 0.9963\n",
            "Epoch 133/150\n",
            "18/18 [==============================] - 10s 540ms/step - loss: 0.1627 - acc: 0.9412 - val_loss: 0.0851 - val_acc: 0.9816\n",
            "Epoch 134/150\n",
            "18/18 [==============================] - 11s 609ms/step - loss: 0.1384 - acc: 0.9453 - val_loss: 0.0644 - val_acc: 0.9926\n",
            "Epoch 135/150\n",
            "18/18 [==============================] - 11s 634ms/step - loss: 0.1279 - acc: 0.9550 - val_loss: 0.0387 - val_acc: 1.0000\n",
            "Epoch 136/150\n",
            "18/18 [==============================] - 11s 638ms/step - loss: 0.0979 - acc: 0.9614 - val_loss: 0.0238 - val_acc: 1.0000\n",
            "Epoch 137/150\n",
            "18/18 [==============================] - 11s 636ms/step - loss: 0.0965 - acc: 0.9633 - val_loss: 0.0471 - val_acc: 0.9890\n",
            "Epoch 138/150\n",
            "18/18 [==============================] - 11s 632ms/step - loss: 0.0890 - acc: 0.9692 - val_loss: 0.0325 - val_acc: 1.0000\n",
            "Epoch 139/150\n",
            "18/18 [==============================] - 11s 608ms/step - loss: 0.1197 - acc: 0.9541 - val_loss: 0.0420 - val_acc: 0.9926\n",
            "Epoch 140/150\n",
            "18/18 [==============================] - 10s 544ms/step - loss: 0.1048 - acc: 0.9591 - val_loss: 0.0460 - val_acc: 0.9926\n",
            "Epoch 141/150\n",
            "18/18 [==============================] - 11s 632ms/step - loss: 0.0993 - acc: 0.9674 - val_loss: 0.0316 - val_acc: 1.0000\n",
            "Epoch 142/150\n",
            "18/18 [==============================] - 11s 628ms/step - loss: 0.0816 - acc: 0.9706 - val_loss: 0.0328 - val_acc: 0.9963\n",
            "Epoch 143/150\n",
            "18/18 [==============================] - 11s 627ms/step - loss: 0.0955 - acc: 0.9642 - val_loss: 0.0382 - val_acc: 0.9926\n",
            "Epoch 144/150\n",
            "18/18 [==============================] - 11s 630ms/step - loss: 0.0729 - acc: 0.9743 - val_loss: 0.0268 - val_acc: 1.0000\n",
            "Epoch 145/150\n",
            "18/18 [==============================] - 11s 633ms/step - loss: 0.0902 - acc: 0.9715 - val_loss: 0.0373 - val_acc: 0.9963\n",
            "Epoch 146/150\n",
            "18/18 [==============================] - 10s 578ms/step - loss: 0.0673 - acc: 0.9752 - val_loss: 0.0204 - val_acc: 1.0000\n",
            "Epoch 147/150\n",
            "18/18 [==============================] - 11s 563ms/step - loss: 0.0798 - acc: 0.9729 - val_loss: 0.0215 - val_acc: 1.0000\n",
            "Epoch 148/150\n",
            "18/18 [==============================] - 11s 633ms/step - loss: 0.0794 - acc: 0.9757 - val_loss: 0.0225 - val_acc: 1.0000\n",
            "Epoch 149/150\n",
            "18/18 [==============================] - 11s 628ms/step - loss: 0.0709 - acc: 0.9743 - val_loss: 0.0229 - val_acc: 1.0000\n",
            "Epoch 150/150\n",
            "18/18 [==============================] - 11s 629ms/step - loss: 0.0772 - acc: 0.9715 - val_loss: 0.0135 - val_acc: 1.0000\n"
          ]
        },
        {
          "output_type": "execute_result",
          "data": {
            "text/plain": [
              "<keras.callbacks.History at 0x7f2e80f422e0>"
            ]
          },
          "metadata": {},
          "execution_count": 24
        }
      ]
    },
    {
      "cell_type": "code",
      "source": [
        "from IPython.display import SVG\n",
        "from keras.utils.vis_utils import model_to_dot\n",
        "SVG(model_to_dot(model,show_shapes = True).create(prog='dot', format='svg'))"
      ],
      "metadata": {
        "colab": {
          "base_uri": "https://localhost:8080/",
          "height": 1000
        },
        "id": "w7JRwZtCHqfG",
        "outputId": "6032b3fe-f9c1-4ea6-f67a-cbb143f72ed6"
      },
      "execution_count": 25,
      "outputs": [
        {
          "output_type": "execute_result",
          "data": {
            "text/plain": [
              "<IPython.core.display.SVG object>"
            ],
            "image/svg+xml": "<svg xmlns=\"http://www.w3.org/2000/svg\" xmlns:xlink=\"http://www.w3.org/1999/xlink\" width=\"396pt\" height=\"1512pt\" viewBox=\"0.00 0.00 297.00 1134.00\">\n<g id=\"graph0\" class=\"graph\" transform=\"scale(0.75 0.75) rotate(0) translate(4 1130)\">\n<title>G</title>\n<polygon fill=\"white\" stroke=\"transparent\" points=\"-4,4 -4,-1130 293,-1130 293,4 -4,4\"/>\n<!-- 139837713340640 -->\n<g id=\"node1\" class=\"node\">\n<title>139837713340640</title>\n<polygon fill=\"none\" stroke=\"black\" points=\"11.5,-1079.5 11.5,-1125.5 277.5,-1125.5 277.5,-1079.5 11.5,-1079.5\"/>\n<text text-anchor=\"middle\" x=\"57\" y=\"-1110.3\" font-family=\"Times,serif\" font-size=\"14.00\">conv2d_input</text>\n<polyline fill=\"none\" stroke=\"black\" points=\"11.5,-1102.5 102.5,-1102.5 \"/>\n<text text-anchor=\"middle\" x=\"57\" y=\"-1087.3\" font-family=\"Times,serif\" font-size=\"14.00\">InputLayer</text>\n<polyline fill=\"none\" stroke=\"black\" points=\"102.5,-1079.5 102.5,-1125.5 \"/>\n<text text-anchor=\"middle\" x=\"130\" y=\"-1110.3\" font-family=\"Times,serif\" font-size=\"14.00\">input:</text>\n<polyline fill=\"none\" stroke=\"black\" points=\"102.5,-1102.5 157.5,-1102.5 \"/>\n<text text-anchor=\"middle\" x=\"130\" y=\"-1087.3\" font-family=\"Times,serif\" font-size=\"14.00\">output:</text>\n<polyline fill=\"none\" stroke=\"black\" points=\"157.5,-1079.5 157.5,-1125.5 \"/>\n<text text-anchor=\"middle\" x=\"217.5\" y=\"-1110.3\" font-family=\"Times,serif\" font-size=\"14.00\">[(None, 32, 32, 3)]</text>\n<polyline fill=\"none\" stroke=\"black\" points=\"157.5,-1102.5 277.5,-1102.5 \"/>\n<text text-anchor=\"middle\" x=\"217.5\" y=\"-1087.3\" font-family=\"Times,serif\" font-size=\"14.00\">[(None, 32, 32, 3)]</text>\n</g>\n<!-- 139840360057344 -->\n<g id=\"node2\" class=\"node\">\n<title>139840360057344</title>\n<polygon fill=\"none\" stroke=\"black\" points=\"27,-996.5 27,-1042.5 262,-1042.5 262,-996.5 27,-996.5\"/>\n<text text-anchor=\"middle\" x=\"58\" y=\"-1027.3\" font-family=\"Times,serif\" font-size=\"14.00\">conv2d</text>\n<polyline fill=\"none\" stroke=\"black\" points=\"27,-1019.5 89,-1019.5 \"/>\n<text text-anchor=\"middle\" x=\"58\" y=\"-1004.3\" font-family=\"Times,serif\" font-size=\"14.00\">Conv2D</text>\n<polyline fill=\"none\" stroke=\"black\" points=\"89,-996.5 89,-1042.5 \"/>\n<text text-anchor=\"middle\" x=\"116.5\" y=\"-1027.3\" font-family=\"Times,serif\" font-size=\"14.00\">input:</text>\n<polyline fill=\"none\" stroke=\"black\" points=\"89,-1019.5 144,-1019.5 \"/>\n<text text-anchor=\"middle\" x=\"116.5\" y=\"-1004.3\" font-family=\"Times,serif\" font-size=\"14.00\">output:</text>\n<polyline fill=\"none\" stroke=\"black\" points=\"144,-996.5 144,-1042.5 \"/>\n<text text-anchor=\"middle\" x=\"203\" y=\"-1027.3\" font-family=\"Times,serif\" font-size=\"14.00\">(None, 32, 32, 3)</text>\n<polyline fill=\"none\" stroke=\"black\" points=\"144,-1019.5 262,-1019.5 \"/>\n<text text-anchor=\"middle\" x=\"203\" y=\"-1004.3\" font-family=\"Times,serif\" font-size=\"14.00\">(None, 32, 32, 16)</text>\n</g>\n<!-- 139837713340640&#45;&gt;139840360057344 -->\n<g id=\"edge1\" class=\"edge\">\n<title>139837713340640-&gt;139840360057344</title>\n<path fill=\"none\" stroke=\"black\" d=\"M144.5,-1079.37C144.5,-1071.15 144.5,-1061.66 144.5,-1052.73\"/>\n<polygon fill=\"black\" stroke=\"black\" points=\"148,-1052.61 144.5,-1042.61 141,-1052.61 148,-1052.61\"/>\n</g>\n<!-- 139837713473440 -->\n<g id=\"node3\" class=\"node\">\n<title>139837713473440</title>\n<polygon fill=\"none\" stroke=\"black\" points=\"7,-913.5 7,-959.5 282,-959.5 282,-913.5 7,-913.5\"/>\n<text text-anchor=\"middle\" x=\"58\" y=\"-944.3\" font-family=\"Times,serif\" font-size=\"14.00\">max_pooling2d</text>\n<polyline fill=\"none\" stroke=\"black\" points=\"7,-936.5 109,-936.5 \"/>\n<text text-anchor=\"middle\" x=\"58\" y=\"-921.3\" font-family=\"Times,serif\" font-size=\"14.00\">MaxPooling2D</text>\n<polyline fill=\"none\" stroke=\"black\" points=\"109,-913.5 109,-959.5 \"/>\n<text text-anchor=\"middle\" x=\"136.5\" y=\"-944.3\" font-family=\"Times,serif\" font-size=\"14.00\">input:</text>\n<polyline fill=\"none\" stroke=\"black\" points=\"109,-936.5 164,-936.5 \"/>\n<text text-anchor=\"middle\" x=\"136.5\" y=\"-921.3\" font-family=\"Times,serif\" font-size=\"14.00\">output:</text>\n<polyline fill=\"none\" stroke=\"black\" points=\"164,-913.5 164,-959.5 \"/>\n<text text-anchor=\"middle\" x=\"223\" y=\"-944.3\" font-family=\"Times,serif\" font-size=\"14.00\">(None, 32, 32, 16)</text>\n<polyline fill=\"none\" stroke=\"black\" points=\"164,-936.5 282,-936.5 \"/>\n<text text-anchor=\"middle\" x=\"223\" y=\"-921.3\" font-family=\"Times,serif\" font-size=\"14.00\">(None, 16, 16, 16)</text>\n</g>\n<!-- 139840360057344&#45;&gt;139837713473440 -->\n<g id=\"edge2\" class=\"edge\">\n<title>139840360057344-&gt;139837713473440</title>\n<path fill=\"none\" stroke=\"black\" d=\"M144.5,-996.37C144.5,-988.15 144.5,-978.66 144.5,-969.73\"/>\n<polygon fill=\"black\" stroke=\"black\" points=\"148,-969.61 144.5,-959.61 141,-969.61 148,-969.61\"/>\n</g>\n<!-- 139837711152800 -->\n<g id=\"node4\" class=\"node\">\n<title>139837711152800</title>\n<polygon fill=\"none\" stroke=\"black\" points=\"27,-830.5 27,-876.5 262,-876.5 262,-830.5 27,-830.5\"/>\n<text text-anchor=\"middle\" x=\"58\" y=\"-861.3\" font-family=\"Times,serif\" font-size=\"14.00\">dropout</text>\n<polyline fill=\"none\" stroke=\"black\" points=\"27,-853.5 89,-853.5 \"/>\n<text text-anchor=\"middle\" x=\"58\" y=\"-838.3\" font-family=\"Times,serif\" font-size=\"14.00\">Dropout</text>\n<polyline fill=\"none\" stroke=\"black\" points=\"89,-830.5 89,-876.5 \"/>\n<text text-anchor=\"middle\" x=\"116.5\" y=\"-861.3\" font-family=\"Times,serif\" font-size=\"14.00\">input:</text>\n<polyline fill=\"none\" stroke=\"black\" points=\"89,-853.5 144,-853.5 \"/>\n<text text-anchor=\"middle\" x=\"116.5\" y=\"-838.3\" font-family=\"Times,serif\" font-size=\"14.00\">output:</text>\n<polyline fill=\"none\" stroke=\"black\" points=\"144,-830.5 144,-876.5 \"/>\n<text text-anchor=\"middle\" x=\"203\" y=\"-861.3\" font-family=\"Times,serif\" font-size=\"14.00\">(None, 16, 16, 16)</text>\n<polyline fill=\"none\" stroke=\"black\" points=\"144,-853.5 262,-853.5 \"/>\n<text text-anchor=\"middle\" x=\"203\" y=\"-838.3\" font-family=\"Times,serif\" font-size=\"14.00\">(None, 16, 16, 16)</text>\n</g>\n<!-- 139837713473440&#45;&gt;139837711152800 -->\n<g id=\"edge3\" class=\"edge\">\n<title>139837713473440-&gt;139837711152800</title>\n<path fill=\"none\" stroke=\"black\" d=\"M144.5,-913.37C144.5,-905.15 144.5,-895.66 144.5,-886.73\"/>\n<polygon fill=\"black\" stroke=\"black\" points=\"148,-886.61 144.5,-876.61 141,-886.61 148,-886.61\"/>\n</g>\n<!-- 139837709336736 -->\n<g id=\"node5\" class=\"node\">\n<title>139837709336736</title>\n<polygon fill=\"none\" stroke=\"black\" points=\"23,-747.5 23,-793.5 266,-793.5 266,-747.5 23,-747.5\"/>\n<text text-anchor=\"middle\" x=\"58\" y=\"-778.3\" font-family=\"Times,serif\" font-size=\"14.00\">conv2d_1</text>\n<polyline fill=\"none\" stroke=\"black\" points=\"23,-770.5 93,-770.5 \"/>\n<text text-anchor=\"middle\" x=\"58\" y=\"-755.3\" font-family=\"Times,serif\" font-size=\"14.00\">Conv2D</text>\n<polyline fill=\"none\" stroke=\"black\" points=\"93,-747.5 93,-793.5 \"/>\n<text text-anchor=\"middle\" x=\"120.5\" y=\"-778.3\" font-family=\"Times,serif\" font-size=\"14.00\">input:</text>\n<polyline fill=\"none\" stroke=\"black\" points=\"93,-770.5 148,-770.5 \"/>\n<text text-anchor=\"middle\" x=\"120.5\" y=\"-755.3\" font-family=\"Times,serif\" font-size=\"14.00\">output:</text>\n<polyline fill=\"none\" stroke=\"black\" points=\"148,-747.5 148,-793.5 \"/>\n<text text-anchor=\"middle\" x=\"207\" y=\"-778.3\" font-family=\"Times,serif\" font-size=\"14.00\">(None, 16, 16, 16)</text>\n<polyline fill=\"none\" stroke=\"black\" points=\"148,-770.5 266,-770.5 \"/>\n<text text-anchor=\"middle\" x=\"207\" y=\"-755.3\" font-family=\"Times,serif\" font-size=\"14.00\">(None, 16, 16, 16)</text>\n</g>\n<!-- 139837711152800&#45;&gt;139837709336736 -->\n<g id=\"edge4\" class=\"edge\">\n<title>139837711152800-&gt;139837709336736</title>\n<path fill=\"none\" stroke=\"black\" d=\"M144.5,-830.37C144.5,-822.15 144.5,-812.66 144.5,-803.73\"/>\n<polygon fill=\"black\" stroke=\"black\" points=\"148,-803.61 144.5,-793.61 141,-803.61 148,-803.61\"/>\n</g>\n<!-- 139837710002208 -->\n<g id=\"node6\" class=\"node\">\n<title>139837710002208</title>\n<polygon fill=\"none\" stroke=\"black\" points=\"0,-664.5 0,-710.5 289,-710.5 289,-664.5 0,-664.5\"/>\n<text text-anchor=\"middle\" x=\"58\" y=\"-695.3\" font-family=\"Times,serif\" font-size=\"14.00\">max_pooling2d_1</text>\n<polyline fill=\"none\" stroke=\"black\" points=\"0,-687.5 116,-687.5 \"/>\n<text text-anchor=\"middle\" x=\"58\" y=\"-672.3\" font-family=\"Times,serif\" font-size=\"14.00\">MaxPooling2D</text>\n<polyline fill=\"none\" stroke=\"black\" points=\"116,-664.5 116,-710.5 \"/>\n<text text-anchor=\"middle\" x=\"143.5\" y=\"-695.3\" font-family=\"Times,serif\" font-size=\"14.00\">input:</text>\n<polyline fill=\"none\" stroke=\"black\" points=\"116,-687.5 171,-687.5 \"/>\n<text text-anchor=\"middle\" x=\"143.5\" y=\"-672.3\" font-family=\"Times,serif\" font-size=\"14.00\">output:</text>\n<polyline fill=\"none\" stroke=\"black\" points=\"171,-664.5 171,-710.5 \"/>\n<text text-anchor=\"middle\" x=\"230\" y=\"-695.3\" font-family=\"Times,serif\" font-size=\"14.00\">(None, 16, 16, 16)</text>\n<polyline fill=\"none\" stroke=\"black\" points=\"171,-687.5 289,-687.5 \"/>\n<text text-anchor=\"middle\" x=\"230\" y=\"-672.3\" font-family=\"Times,serif\" font-size=\"14.00\">(None, 8, 8, 16)</text>\n</g>\n<!-- 139837709336736&#45;&gt;139837710002208 -->\n<g id=\"edge5\" class=\"edge\">\n<title>139837709336736-&gt;139837710002208</title>\n<path fill=\"none\" stroke=\"black\" d=\"M144.5,-747.37C144.5,-739.15 144.5,-729.66 144.5,-720.73\"/>\n<polygon fill=\"black\" stroke=\"black\" points=\"148,-720.61 144.5,-710.61 141,-720.61 148,-720.61\"/>\n</g>\n<!-- 139837709340624 -->\n<g id=\"node7\" class=\"node\">\n<title>139837709340624</title>\n<polygon fill=\"none\" stroke=\"black\" points=\"29,-581.5 29,-627.5 260,-627.5 260,-581.5 29,-581.5\"/>\n<text text-anchor=\"middle\" x=\"65\" y=\"-612.3\" font-family=\"Times,serif\" font-size=\"14.00\">dropout_1</text>\n<polyline fill=\"none\" stroke=\"black\" points=\"29,-604.5 101,-604.5 \"/>\n<text text-anchor=\"middle\" x=\"65\" y=\"-589.3\" font-family=\"Times,serif\" font-size=\"14.00\">Dropout</text>\n<polyline fill=\"none\" stroke=\"black\" points=\"101,-581.5 101,-627.5 \"/>\n<text text-anchor=\"middle\" x=\"128.5\" y=\"-612.3\" font-family=\"Times,serif\" font-size=\"14.00\">input:</text>\n<polyline fill=\"none\" stroke=\"black\" points=\"101,-604.5 156,-604.5 \"/>\n<text text-anchor=\"middle\" x=\"128.5\" y=\"-589.3\" font-family=\"Times,serif\" font-size=\"14.00\">output:</text>\n<polyline fill=\"none\" stroke=\"black\" points=\"156,-581.5 156,-627.5 \"/>\n<text text-anchor=\"middle\" x=\"208\" y=\"-612.3\" font-family=\"Times,serif\" font-size=\"14.00\">(None, 8, 8, 16)</text>\n<polyline fill=\"none\" stroke=\"black\" points=\"156,-604.5 260,-604.5 \"/>\n<text text-anchor=\"middle\" x=\"208\" y=\"-589.3\" font-family=\"Times,serif\" font-size=\"14.00\">(None, 8, 8, 16)</text>\n</g>\n<!-- 139837710002208&#45;&gt;139837709340624 -->\n<g id=\"edge6\" class=\"edge\">\n<title>139837710002208-&gt;139837709340624</title>\n<path fill=\"none\" stroke=\"black\" d=\"M144.5,-664.37C144.5,-656.15 144.5,-646.66 144.5,-637.73\"/>\n<polygon fill=\"black\" stroke=\"black\" points=\"148,-637.61 144.5,-627.61 141,-637.61 148,-637.61\"/>\n</g>\n<!-- 139837710002592 -->\n<g id=\"node8\" class=\"node\">\n<title>139837710002592</title>\n<polygon fill=\"none\" stroke=\"black\" points=\"30,-498.5 30,-544.5 259,-544.5 259,-498.5 30,-498.5\"/>\n<text text-anchor=\"middle\" x=\"65\" y=\"-529.3\" font-family=\"Times,serif\" font-size=\"14.00\">conv2d_2</text>\n<polyline fill=\"none\" stroke=\"black\" points=\"30,-521.5 100,-521.5 \"/>\n<text text-anchor=\"middle\" x=\"65\" y=\"-506.3\" font-family=\"Times,serif\" font-size=\"14.00\">Conv2D</text>\n<polyline fill=\"none\" stroke=\"black\" points=\"100,-498.5 100,-544.5 \"/>\n<text text-anchor=\"middle\" x=\"127.5\" y=\"-529.3\" font-family=\"Times,serif\" font-size=\"14.00\">input:</text>\n<polyline fill=\"none\" stroke=\"black\" points=\"100,-521.5 155,-521.5 \"/>\n<text text-anchor=\"middle\" x=\"127.5\" y=\"-506.3\" font-family=\"Times,serif\" font-size=\"14.00\">output:</text>\n<polyline fill=\"none\" stroke=\"black\" points=\"155,-498.5 155,-544.5 \"/>\n<text text-anchor=\"middle\" x=\"207\" y=\"-529.3\" font-family=\"Times,serif\" font-size=\"14.00\">(None, 8, 8, 16)</text>\n<polyline fill=\"none\" stroke=\"black\" points=\"155,-521.5 259,-521.5 \"/>\n<text text-anchor=\"middle\" x=\"207\" y=\"-506.3\" font-family=\"Times,serif\" font-size=\"14.00\">(None, 8, 8, 36)</text>\n</g>\n<!-- 139837709340624&#45;&gt;139837710002592 -->\n<g id=\"edge7\" class=\"edge\">\n<title>139837709340624-&gt;139837710002592</title>\n<path fill=\"none\" stroke=\"black\" d=\"M144.5,-581.37C144.5,-573.15 144.5,-563.66 144.5,-554.73\"/>\n<polygon fill=\"black\" stroke=\"black\" points=\"148,-554.61 144.5,-544.61 141,-554.61 148,-554.61\"/>\n</g>\n<!-- 139837710000912 -->\n<g id=\"node9\" class=\"node\">\n<title>139837710000912</title>\n<polygon fill=\"none\" stroke=\"black\" points=\"7,-415.5 7,-461.5 282,-461.5 282,-415.5 7,-415.5\"/>\n<text text-anchor=\"middle\" x=\"65\" y=\"-446.3\" font-family=\"Times,serif\" font-size=\"14.00\">max_pooling2d_2</text>\n<polyline fill=\"none\" stroke=\"black\" points=\"7,-438.5 123,-438.5 \"/>\n<text text-anchor=\"middle\" x=\"65\" y=\"-423.3\" font-family=\"Times,serif\" font-size=\"14.00\">MaxPooling2D</text>\n<polyline fill=\"none\" stroke=\"black\" points=\"123,-415.5 123,-461.5 \"/>\n<text text-anchor=\"middle\" x=\"150.5\" y=\"-446.3\" font-family=\"Times,serif\" font-size=\"14.00\">input:</text>\n<polyline fill=\"none\" stroke=\"black\" points=\"123,-438.5 178,-438.5 \"/>\n<text text-anchor=\"middle\" x=\"150.5\" y=\"-423.3\" font-family=\"Times,serif\" font-size=\"14.00\">output:</text>\n<polyline fill=\"none\" stroke=\"black\" points=\"178,-415.5 178,-461.5 \"/>\n<text text-anchor=\"middle\" x=\"230\" y=\"-446.3\" font-family=\"Times,serif\" font-size=\"14.00\">(None, 8, 8, 36)</text>\n<polyline fill=\"none\" stroke=\"black\" points=\"178,-438.5 282,-438.5 \"/>\n<text text-anchor=\"middle\" x=\"230\" y=\"-423.3\" font-family=\"Times,serif\" font-size=\"14.00\">(None, 4, 4, 36)</text>\n</g>\n<!-- 139837710002592&#45;&gt;139837710000912 -->\n<g id=\"edge8\" class=\"edge\">\n<title>139837710002592-&gt;139837710000912</title>\n<path fill=\"none\" stroke=\"black\" d=\"M144.5,-498.37C144.5,-490.15 144.5,-480.66 144.5,-471.73\"/>\n<polygon fill=\"black\" stroke=\"black\" points=\"148,-471.61 144.5,-461.61 141,-471.61 148,-471.61\"/>\n</g>\n<!-- 139837711153040 -->\n<g id=\"node10\" class=\"node\">\n<title>139837711153040</title>\n<polygon fill=\"none\" stroke=\"black\" points=\"29,-332.5 29,-378.5 260,-378.5 260,-332.5 29,-332.5\"/>\n<text text-anchor=\"middle\" x=\"65\" y=\"-363.3\" font-family=\"Times,serif\" font-size=\"14.00\">dropout_2</text>\n<polyline fill=\"none\" stroke=\"black\" points=\"29,-355.5 101,-355.5 \"/>\n<text text-anchor=\"middle\" x=\"65\" y=\"-340.3\" font-family=\"Times,serif\" font-size=\"14.00\">Dropout</text>\n<polyline fill=\"none\" stroke=\"black\" points=\"101,-332.5 101,-378.5 \"/>\n<text text-anchor=\"middle\" x=\"128.5\" y=\"-363.3\" font-family=\"Times,serif\" font-size=\"14.00\">input:</text>\n<polyline fill=\"none\" stroke=\"black\" points=\"101,-355.5 156,-355.5 \"/>\n<text text-anchor=\"middle\" x=\"128.5\" y=\"-340.3\" font-family=\"Times,serif\" font-size=\"14.00\">output:</text>\n<polyline fill=\"none\" stroke=\"black\" points=\"156,-332.5 156,-378.5 \"/>\n<text text-anchor=\"middle\" x=\"208\" y=\"-363.3\" font-family=\"Times,serif\" font-size=\"14.00\">(None, 4, 4, 36)</text>\n<polyline fill=\"none\" stroke=\"black\" points=\"156,-355.5 260,-355.5 \"/>\n<text text-anchor=\"middle\" x=\"208\" y=\"-340.3\" font-family=\"Times,serif\" font-size=\"14.00\">(None, 4, 4, 36)</text>\n</g>\n<!-- 139837710000912&#45;&gt;139837711153040 -->\n<g id=\"edge9\" class=\"edge\">\n<title>139837710000912-&gt;139837711153040</title>\n<path fill=\"none\" stroke=\"black\" d=\"M144.5,-415.37C144.5,-407.15 144.5,-397.66 144.5,-388.73\"/>\n<polygon fill=\"black\" stroke=\"black\" points=\"148,-388.61 144.5,-378.61 141,-388.61 148,-388.61\"/>\n</g>\n<!-- 139837709560272 -->\n<g id=\"node11\" class=\"node\">\n<title>139837709560272</title>\n<polygon fill=\"none\" stroke=\"black\" points=\"38,-249.5 38,-295.5 251,-295.5 251,-249.5 38,-249.5\"/>\n<text text-anchor=\"middle\" x=\"65\" y=\"-280.3\" font-family=\"Times,serif\" font-size=\"14.00\">flatten</text>\n<polyline fill=\"none\" stroke=\"black\" points=\"38,-272.5 92,-272.5 \"/>\n<text text-anchor=\"middle\" x=\"65\" y=\"-257.3\" font-family=\"Times,serif\" font-size=\"14.00\">Flatten</text>\n<polyline fill=\"none\" stroke=\"black\" points=\"92,-249.5 92,-295.5 \"/>\n<text text-anchor=\"middle\" x=\"119.5\" y=\"-280.3\" font-family=\"Times,serif\" font-size=\"14.00\">input:</text>\n<polyline fill=\"none\" stroke=\"black\" points=\"92,-272.5 147,-272.5 \"/>\n<text text-anchor=\"middle\" x=\"119.5\" y=\"-257.3\" font-family=\"Times,serif\" font-size=\"14.00\">output:</text>\n<polyline fill=\"none\" stroke=\"black\" points=\"147,-249.5 147,-295.5 \"/>\n<text text-anchor=\"middle\" x=\"199\" y=\"-280.3\" font-family=\"Times,serif\" font-size=\"14.00\">(None, 4, 4, 36)</text>\n<polyline fill=\"none\" stroke=\"black\" points=\"147,-272.5 251,-272.5 \"/>\n<text text-anchor=\"middle\" x=\"199\" y=\"-257.3\" font-family=\"Times,serif\" font-size=\"14.00\">(None, 576)</text>\n</g>\n<!-- 139837711153040&#45;&gt;139837709560272 -->\n<g id=\"edge10\" class=\"edge\">\n<title>139837711153040-&gt;139837709560272</title>\n<path fill=\"none\" stroke=\"black\" d=\"M144.5,-332.37C144.5,-324.15 144.5,-314.66 144.5,-305.73\"/>\n<polygon fill=\"black\" stroke=\"black\" points=\"148,-305.61 144.5,-295.61 141,-305.61 148,-305.61\"/>\n</g>\n<!-- 139837709561088 -->\n<g id=\"node12\" class=\"node\">\n<title>139837709561088</title>\n<polygon fill=\"none\" stroke=\"black\" points=\"50.5,-166.5 50.5,-212.5 238.5,-212.5 238.5,-166.5 50.5,-166.5\"/>\n<text text-anchor=\"middle\" x=\"75.5\" y=\"-197.3\" font-family=\"Times,serif\" font-size=\"14.00\">dense</text>\n<polyline fill=\"none\" stroke=\"black\" points=\"50.5,-189.5 100.5,-189.5 \"/>\n<text text-anchor=\"middle\" x=\"75.5\" y=\"-174.3\" font-family=\"Times,serif\" font-size=\"14.00\">Dense</text>\n<polyline fill=\"none\" stroke=\"black\" points=\"100.5,-166.5 100.5,-212.5 \"/>\n<text text-anchor=\"middle\" x=\"128\" y=\"-197.3\" font-family=\"Times,serif\" font-size=\"14.00\">input:</text>\n<polyline fill=\"none\" stroke=\"black\" points=\"100.5,-189.5 155.5,-189.5 \"/>\n<text text-anchor=\"middle\" x=\"128\" y=\"-174.3\" font-family=\"Times,serif\" font-size=\"14.00\">output:</text>\n<polyline fill=\"none\" stroke=\"black\" points=\"155.5,-166.5 155.5,-212.5 \"/>\n<text text-anchor=\"middle\" x=\"197\" y=\"-197.3\" font-family=\"Times,serif\" font-size=\"14.00\">(None, 576)</text>\n<polyline fill=\"none\" stroke=\"black\" points=\"155.5,-189.5 238.5,-189.5 \"/>\n<text text-anchor=\"middle\" x=\"197\" y=\"-174.3\" font-family=\"Times,serif\" font-size=\"14.00\">(None, 512)</text>\n</g>\n<!-- 139837709560272&#45;&gt;139837709561088 -->\n<g id=\"edge11\" class=\"edge\">\n<title>139837709560272-&gt;139837709561088</title>\n<path fill=\"none\" stroke=\"black\" d=\"M144.5,-249.37C144.5,-241.15 144.5,-231.66 144.5,-222.73\"/>\n<polygon fill=\"black\" stroke=\"black\" points=\"148,-222.61 144.5,-212.61 141,-222.61 148,-222.61\"/>\n</g>\n<!-- 139837709551072 -->\n<g id=\"node13\" class=\"node\">\n<title>139837709551072</title>\n<polygon fill=\"none\" stroke=\"black\" points=\"39.5,-83.5 39.5,-129.5 249.5,-129.5 249.5,-83.5 39.5,-83.5\"/>\n<text text-anchor=\"middle\" x=\"75.5\" y=\"-114.3\" font-family=\"Times,serif\" font-size=\"14.00\">dropout_3</text>\n<polyline fill=\"none\" stroke=\"black\" points=\"39.5,-106.5 111.5,-106.5 \"/>\n<text text-anchor=\"middle\" x=\"75.5\" y=\"-91.3\" font-family=\"Times,serif\" font-size=\"14.00\">Dropout</text>\n<polyline fill=\"none\" stroke=\"black\" points=\"111.5,-83.5 111.5,-129.5 \"/>\n<text text-anchor=\"middle\" x=\"139\" y=\"-114.3\" font-family=\"Times,serif\" font-size=\"14.00\">input:</text>\n<polyline fill=\"none\" stroke=\"black\" points=\"111.5,-106.5 166.5,-106.5 \"/>\n<text text-anchor=\"middle\" x=\"139\" y=\"-91.3\" font-family=\"Times,serif\" font-size=\"14.00\">output:</text>\n<polyline fill=\"none\" stroke=\"black\" points=\"166.5,-83.5 166.5,-129.5 \"/>\n<text text-anchor=\"middle\" x=\"208\" y=\"-114.3\" font-family=\"Times,serif\" font-size=\"14.00\">(None, 512)</text>\n<polyline fill=\"none\" stroke=\"black\" points=\"166.5,-106.5 249.5,-106.5 \"/>\n<text text-anchor=\"middle\" x=\"208\" y=\"-91.3\" font-family=\"Times,serif\" font-size=\"14.00\">(None, 512)</text>\n</g>\n<!-- 139837709561088&#45;&gt;139837709551072 -->\n<g id=\"edge12\" class=\"edge\">\n<title>139837709561088-&gt;139837709551072</title>\n<path fill=\"none\" stroke=\"black\" d=\"M144.5,-166.37C144.5,-158.15 144.5,-148.66 144.5,-139.73\"/>\n<polygon fill=\"black\" stroke=\"black\" points=\"148,-139.61 144.5,-129.61 141,-139.61 148,-139.61\"/>\n</g>\n<!-- 139837709067456 -->\n<g id=\"node14\" class=\"node\">\n<title>139837709067456</title>\n<polygon fill=\"none\" stroke=\"black\" points=\"45,-0.5 45,-46.5 244,-46.5 244,-0.5 45,-0.5\"/>\n<text text-anchor=\"middle\" x=\"75.5\" y=\"-31.3\" font-family=\"Times,serif\" font-size=\"14.00\">dense_1</text>\n<polyline fill=\"none\" stroke=\"black\" points=\"45,-23.5 106,-23.5 \"/>\n<text text-anchor=\"middle\" x=\"75.5\" y=\"-8.3\" font-family=\"Times,serif\" font-size=\"14.00\">Dense</text>\n<polyline fill=\"none\" stroke=\"black\" points=\"106,-0.5 106,-46.5 \"/>\n<text text-anchor=\"middle\" x=\"133.5\" y=\"-31.3\" font-family=\"Times,serif\" font-size=\"14.00\">input:</text>\n<polyline fill=\"none\" stroke=\"black\" points=\"106,-23.5 161,-23.5 \"/>\n<text text-anchor=\"middle\" x=\"133.5\" y=\"-8.3\" font-family=\"Times,serif\" font-size=\"14.00\">output:</text>\n<polyline fill=\"none\" stroke=\"black\" points=\"161,-0.5 161,-46.5 \"/>\n<text text-anchor=\"middle\" x=\"202.5\" y=\"-31.3\" font-family=\"Times,serif\" font-size=\"14.00\">(None, 512)</text>\n<polyline fill=\"none\" stroke=\"black\" points=\"161,-23.5 244,-23.5 \"/>\n<text text-anchor=\"middle\" x=\"202.5\" y=\"-8.3\" font-family=\"Times,serif\" font-size=\"14.00\">(None, 1)</text>\n</g>\n<!-- 139837709551072&#45;&gt;139837709067456 -->\n<g id=\"edge13\" class=\"edge\">\n<title>139837709551072-&gt;139837709067456</title>\n<path fill=\"none\" stroke=\"black\" d=\"M144.5,-83.37C144.5,-75.15 144.5,-65.66 144.5,-56.73\"/>\n<polygon fill=\"black\" stroke=\"black\" points=\"148,-56.61 144.5,-46.61 141,-56.61 148,-56.61\"/>\n</g>\n</g>\n</svg>"
          },
          "metadata": {},
          "execution_count": 25
        }
      ]
    },
    {
      "cell_type": "code",
      "source": [
        "# Evaluate the model on test set\n",
        "score = model.evaluate(x_test, y_test, verbose=0)\n",
        "\n",
        "# Print test accuracy\n",
        "print('\\n', 'Test accuracy:', score[1])"
      ],
      "metadata": {
        "colab": {
          "base_uri": "https://localhost:8080/"
        },
        "id": "MCjykRtMHuKy",
        "outputId": "1d949416-bb2a-4a0f-bea9-afcab19ff1f0"
      },
      "execution_count": 26,
      "outputs": [
        {
          "output_type": "stream",
          "name": "stdout",
          "text": [
            "\n",
            " Test accuracy: 0.9893833994865417\n"
          ]
        }
      ]
    },
    {
      "cell_type": "code",
      "source": [
        "labels =[\"Yes\",  # index 0\n",
        "        \"No\",      # index 1\n",
        "        ]"
      ],
      "metadata": {
        "id": "TIrSmQZlIA0m"
      },
      "execution_count": 27,
      "outputs": []
    },
    {
      "cell_type": "code",
      "source": [
        "y_hat = model.predict(x_test)\n",
        "\n",
        "# Plot a random sample of 10 test images, their predicted labels and ground truth\n",
        "figure = plt.figure(figsize=(20, 8))\n",
        "for i, index in enumerate(np.random.choice(x_test.shape[0], size=15, replace=False)):\n",
        "    ax = figure.add_subplot(3, 5, i + 1, xticks=[], yticks=[])\n",
        "    # Display each image\n",
        "    ax.imshow(np.squeeze(x_test[index]))\n",
        "    predict_index = np.argmax(y_hat[index])\n",
        "    true_index = np.argmax(y_test[index])\n",
        "    # Set the title for each image\n",
        "    ax.set_title(\"{} ({})\".format(labels[predict_index], \n",
        "                                  labels[true_index]),\n",
        "                                  color=(\"green\" if predict_index == true_index else \"red\"))\n",
        "plt.show()"
      ],
      "metadata": {
        "colab": {
          "base_uri": "https://localhost:8080/",
          "height": 502
        },
        "id": "2hVtKHpZICYF",
        "outputId": "9f71761f-e6cb-45b6-809e-4a8b406d10de"
      },
      "execution_count": 28,
      "outputs": [
        {
          "output_type": "stream",
          "name": "stdout",
          "text": [
            "77/77 [==============================] - 8s 95ms/step\n"
          ]
        },
        {
          "output_type": "display_data",
          "data": {
            "text/plain": [
              "<Figure size 1440x576 with 15 Axes>"
            ],
            "image/png": "[encoded data removed]"
          },
          "metadata": {}
        }
      ]
    },
    {
      "cell_type": "code",
      "source": [
        "import pickle"
      ],
      "metadata": {
        "id": "3g1U4OcDJnMK"
      },
      "execution_count": 29,
      "outputs": []
    },
    {
      "cell_type": "code",
      "source": [
        "pickle.dump(model, open('/model/model_saved', 'wb'))"
      ],
      "metadata": {
        "colab": {
          "base_uri": "https://localhost:8080/"
        },
        "id": "SnAzE895JxRL",
        "outputId": "6a817e17-b952-4dfd-f08e-74576311f905"
      },
      "execution_count": 31,
      "outputs": [
        {
          "output_type": "stream",
          "name": "stdout",
          "text": [
            "Keras weights file (<HDF5 file \"variables.h5\" (mode r+)>) saving:\n",
            "...layers\n",
            "......conv2d\n",
            ".........vars\n",
            "............0\n",
            "............1\n",
            "......conv2d_1\n",
            ".........vars\n",
            "............0\n",
            "............1\n",
            "......conv2d_2\n",
            ".........vars\n",
            "............0\n",
            "............1\n",
            "......dense\n",
            ".........vars\n",
            "............0\n",
            "............1\n",
            "......dense_1\n",
            ".........vars\n",
            "............0\n",
            "............1\n",
            "......dropout\n",
            ".........vars\n",
            "......dropout_1\n",
            ".........vars\n",
            "......dropout_2\n",
            ".........vars\n",
            "......dropout_3\n",
            ".........vars\n",
            "......flatten\n",
            ".........vars\n",
            "......max_pooling2d\n",
            ".........vars\n",
            "......max_pooling2d_1\n",
            ".........vars\n",
            "......max_pooling2d_2\n",
            ".........vars\n",
            "...metrics\n",
            "......mean\n",
            ".........vars\n",
            "............0\n",
            "............1\n",
            "......mean_metric_wrapper\n",
            ".........vars\n",
            "............0\n",
            "............1\n",
            "...optimizer\n",
            "......vars\n",
            ".........0\n",
            ".........1\n",
            ".........10\n",
            ".........11\n",
            ".........12\n",
            ".........13\n",
            ".........14\n",
            ".........15\n",
            ".........16\n",
            ".........17\n",
            ".........18\n",
            ".........19\n",
            ".........2\n",
            ".........20\n",
            ".........3\n",
            ".........4\n",
            ".........5\n",
            ".........6\n",
            ".........7\n",
            ".........8\n",
            ".........9\n",
            "...vars\n",
            "Keras model archive saving:\n",
            "File Name                                             Modified             Size\n",
            "metadata.json                                  2023-02-23 07:25:52           64\n",
            "config.json                                    2023-02-23 07:25:52         4832\n",
            "variables.h5                                   2023-02-23 07:25:52      4454968\n"
          ]
        }
      ]
    },
    {
      "cell_type": "code",
      "source": [
        "model_loaded = pickle.load(open('/model/model_saved','rb'))\n"
      ],
      "metadata": {
        "colab": {
          "base_uri": "https://localhost:8080/"
        },
        "id": "pTCcXdH7Klmq",
        "outputId": "1003d172-97ce-47e6-9d41-e7bc8c65251a"
      },
      "execution_count": 32,
      "outputs": [
        {
          "output_type": "stream",
          "name": "stdout",
          "text": [
            "Keras model archive loading:\n",
            "File Name                                             Modified             Size\n",
            "metadata.json                                  2023-02-23 07:25:52           64\n",
            "config.json                                    2023-02-23 07:25:52         4832\n",
            "variables.h5                                   2023-02-23 07:25:52      4454968\n",
            "Keras weights file (<HDF5 file \"variables.h5\" (mode r)>) loading:\n",
            "...layers\n",
            "......conv2d\n",
            ".........vars\n",
            "............0\n",
            "............1\n",
            "......conv2d_1\n",
            ".........vars\n",
            "............0\n",
            "............1\n",
            "......conv2d_2\n",
            ".........vars\n",
            "............0\n",
            "............1\n",
            "......dense\n",
            ".........vars\n",
            "............0\n",
            "............1\n",
            "......dense_1\n",
            ".........vars\n",
            "............0\n",
            "............1\n",
            "......dropout\n",
            ".........vars\n",
            "......dropout_1\n",
            ".........vars\n",
            "......dropout_2\n",
            ".........vars\n",
            "......dropout_3\n",
            ".........vars\n",
            "......flatten\n",
            ".........vars\n",
            "......max_pooling2d\n",
            ".........vars\n",
            "......max_pooling2d_1\n",
            ".........vars\n",
            "......max_pooling2d_2\n",
            ".........vars\n",
            "...metrics\n",
            "......mean\n",
            ".........vars\n",
            "............0\n",
            "............1\n",
            "......mean_metric_wrapper\n",
            ".........vars\n",
            "............0\n",
            "............1\n",
            "...optimizer\n",
            "......vars\n",
            ".........0\n",
            ".........1\n",
            ".........10\n",
            ".........11\n",
            ".........12\n",
            ".........13\n",
            ".........14\n",
            ".........15\n",
            ".........16\n",
            ".........17\n",
            ".........18\n",
            ".........19\n",
            ".........2\n",
            ".........20\n",
            ".........3\n",
            ".........4\n",
            ".........5\n",
            ".........6\n",
            ".........7\n",
            ".........8\n",
            ".........9\n",
            "...vars\n"
          ]
        }
      ]
    },
    {
      "cell_type": "code",
      "source": [
        "model_loaded.predict(x_test)"
      ],
      "metadata": {
        "colab": {
          "base_uri": "https://localhost:8080/"
        },
        "id": "jqg5ZZ5YLFmx",
        "outputId": "ad408405-f62d-43cf-8dd3-684096ed702e"
      },
      "execution_count": 35,
      "outputs": [
        {
          "output_type": "stream",
          "name": "stdout",
          "text": [
            "77/77 [==============================] - 3s 38ms/step\n"
          ]
        },
        {
          "output_type": "execute_result",
          "data": {
            "text/plain": [
              "array([[9.9590993e-01],\n",
              "       [9.9190021e-01],\n",
              "       [9.9493545e-01],\n",
              "       ...,\n",
              "       [1.5516943e-04],\n",
              "       [1.9368058e-02],\n",
              "       [2.6842546e-09]], dtype=float32)"
            ]
          },
          "metadata": {},
          "execution_count": 35
        }
      ]
    }
  ]
}